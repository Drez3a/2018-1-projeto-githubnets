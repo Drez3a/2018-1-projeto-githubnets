{
 "cells": [
  {
   "cell_type": "code",
   "execution_count": null,
   "metadata": {},
   "outputs": [],
   "source": [
    "# This script requires github3.py version 0.9.6\n",
    "# pip install github3.py\n",
    "\n",
    "import os\n",
    "import pandas as pd\n",
    "from github3 import login\n",
    "\n",
    "\n",
    "GITHUB_API_TOKEN = os.environ.get('GITHUB_API_TOKEN')\n",
    "gh = login(token=GITHUB_API_TOKEN)\n",
    "LOCATION = 'Recife'\n",
    "\n",
    "\n",
    "def test_followers(gh_users_graph):\n",
    "    ''''''\n",
    "    assert(gh_users_graph == [\n",
    "        ('karlafalcao',\n",
    "            ['tuliohmendes', 'thiagolmm', 'dayvsonlima', 'jbwestphal'])\n",
    "    ])\n",
    "\n",
    "\n",
    "def queries_list(location=LOCATION):\n",
    "    return (\n",
    "        'location:{} followers:>1'.format(location),\n",
    "        'location:{} followers:1'.format(location),\n",
    "        'location:{} followers:0'.format(location),\n",
    "#         'karlafalcao',\n",
    "    )\n",
    "\n",
    "\n",
    "def search_users(query):\n",
    "    return [u.user for u in gh.search_users(query, sort='followers')]\n",
    "\n",
    "\n",
    "def fetch_gh_users():\n",
    "    return [search_users(q) for q in queries_list()]\n",
    "\n",
    "\n",
    "def create_users_df(batches):\n",
    "    return pd.concat(\n",
    "        [pd.DataFrame({'User': u}) for u in batches],\n",
    "        ignore_index=True)\n",
    "\n",
    "\n",
    "def followers_iter(gh_user):\n",
    "    return ','.join([str(u) for u in gh_user.iter_followers()])\n",
    "\n",
    "\n",
    "def map_f_batch(map_fn, users_iterator):\n",
    "    return pd.DataFrame({'User': [map_fn(u) for u in users_iterator]})\n",
    "\n",
    "\n",
    "def create_followers_df(batches):\n",
    "    return pd.concat(\n",
    "        [map_f_batch(followers_iter, u) for u in batches],\n",
    "        ignore_index=True)\n"
   ]
  },
  {
   "cell_type": "code",
   "execution_count": null,
   "metadata": {},
   "outputs": [],
   "source": [
    "ghusers_batches = fetch_gh_users()\n",
    "#\n",
    "gh_users = create_users_df(ghusers_batches)\n",
    "gh_users.to_csv('gh_users.csv', index=False)\n",
    "#\n",
    "gh_followers = create_followers_df(ghusers_batches)\n",
    "gh_followers.to_csv('gh_followers.csv', index=False, header=False)"
   ]
  }
 ],
 "metadata": {
  "kernelspec": {
   "display_name": "Python 3",
   "language": "python",
   "name": "python3"
  },
  "language_info": {
   "codemirror_mode": {
    "name": "ipython",
    "version": 3
   },
   "file_extension": ".py",
   "mimetype": "text/x-python",
   "name": "python",
   "nbconvert_exporter": "python",
   "pygments_lexer": "ipython3",
   "version": "3.6.4"
  }
 },
 "nbformat": 4,
 "nbformat_minor": 2
}
