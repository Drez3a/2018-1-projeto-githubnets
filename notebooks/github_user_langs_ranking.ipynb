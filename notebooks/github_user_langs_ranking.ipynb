{
 "cells": [
  {
   "cell_type": "markdown",
   "metadata": {},
   "source": [
    "# Recomendacao de usuarios compativeis para participar de um projeto\n",
    "\n",
    "      A descricao do projeto é dada pela lista de tecnologias/linguagens =['JavaScript','JavaScript','Python','JavaScript','JavaScript','C++','JavaScript','Lua','C']\n",
    "\n",
    "    Você pode repetir uma tecnologias quantas vzs quiser, isso aumenta o peso da tecnologia especifica, e ajuda a encontrar usuarios mais especialistas.\n",
    "\n",
    "\n"
   ]
  },
  {
   "cell_type": "code",
   "execution_count": 111,
   "metadata": {},
   "outputs": [
    {
     "name": "stdout",
     "output_type": "stream",
     "text": [
      "CPU times: user 22 µs, sys: 1 µs, total: 23 µs\n",
      "Wall time: 26.2 µs\n"
     ]
    }
   ],
   "source": [
    "%%time\n",
    "\n",
    "import pandas as pd\n",
    "import numpy as np\n",
    "import re\n",
    "\n",
    "from gensim.corpora import Dictionary\n",
    "from gensim.models import TfidfModel\n",
    "from gensim.models import Word2Vec\n",
    "from multiprocessing import cpu_count\n",
    "from gensim.similarities import MatrixSimilarity, SparseMatrixSimilarity, SoftCosineSimilarity\n",
    "\n",
    "# import logging\n",
    "# logging.basicConfig(format='%(asctime)s : %(levelname)s : %(message)s', level=logging.INFO)\n"
   ]
  },
  {
   "cell_type": "code",
   "execution_count": 112,
   "metadata": {},
   "outputs": [
    {
     "data": {
      "text/html": [
       "<div>\n",
       "<style scoped>\n",
       "    .dataframe tbody tr th:only-of-type {\n",
       "        vertical-align: middle;\n",
       "    }\n",
       "\n",
       "    .dataframe tbody tr th {\n",
       "        vertical-align: top;\n",
       "    }\n",
       "\n",
       "    .dataframe thead th {\n",
       "        text-align: right;\n",
       "    }\n",
       "</style>\n",
       "<table border=\"1\" class=\"dataframe\">\n",
       "  <thead>\n",
       "    <tr style=\"text-align: right;\">\n",
       "      <th></th>\n",
       "      <th>User</th>\n",
       "      <th>Repo_Member</th>\n",
       "      <th>mRepo_Language</th>\n",
       "      <th>Repo_Owner</th>\n",
       "      <th>oRepo_Language</th>\n",
       "    </tr>\n",
       "  </thead>\n",
       "  <tbody>\n",
       "    <tr>\n",
       "      <th>0</th>\n",
       "      <td>tarruda</td>\n",
       "      <td>libmpack/libmpack</td>\n",
       "      <td>C</td>\n",
       "      <td>tarruda/Algoritmos,tarruda/archdb,tarruda/back...</td>\n",
       "      <td>JavaScript,JavaScript,JavaScript,JavaScript,Py...</td>\n",
       "    </tr>\n",
       "    <tr>\n",
       "      <th>1</th>\n",
       "      <td>mairatma</td>\n",
       "      <td>deprecate/steel-avatar,deprecate/steel-cell-de...</td>\n",
       "      <td>CSS,CSS,HTML,CSS,HTML,CSS,JavaScript,CSS,JavaS...</td>\n",
       "      <td>mairatma/alloy-ui,mairatma/alloyui.com,mairatm...</td>\n",
       "      <td>JavaScript,JavaScript,TypeScript,JavaScript,Ja...</td>\n",
       "    </tr>\n",
       "    <tr>\n",
       "      <th>2</th>\n",
       "      <td>joselitojunior1</td>\n",
       "      <td>acmh/maecoruja,Cisneiros/projeto-anfa,demianbo...</td>\n",
       "      <td>JavaScript,Java,Java,HTML,JavaScript,None</td>\n",
       "      <td>joselitojunior1/abigobaldo-nunes-adventures,jo...</td>\n",
       "      <td>JavaScript,HTML,CSS,None,None,None,None,GCC Ma...</td>\n",
       "    </tr>\n",
       "    <tr>\n",
       "      <th>3</th>\n",
       "      <td>marcelcaraciolo</td>\n",
       "      <td>irgmedeiros/TCCRecommender,jg1141/Open-Allure-DS</td>\n",
       "      <td>Python,Python</td>\n",
       "      <td>marcelcaraciolo/apontador-api-libs,marcelcarac...</td>\n",
       "      <td>PHP,Python,Python,None,Python,Python,Python,No...</td>\n",
       "    </tr>\n",
       "    <tr>\n",
       "      <th>4</th>\n",
       "      <td>luanfonceca</td>\n",
       "      <td>andrezap/analise_expressao_genica,andrezap/arv...</td>\n",
       "      <td>Java,Java,Java,Ruby,Ruby,JavaScript,JavaScript...</td>\n",
       "      <td>luanfonceca/168horas,luanfonceca/4stoq,luanfon...</td>\n",
       "      <td>CSS,Ruby,Python,JavaScript,Python,Python,None,...</td>\n",
       "    </tr>\n",
       "  </tbody>\n",
       "</table>\n",
       "</div>"
      ],
      "text/plain": [
       "              User                                        Repo_Member  \\\n",
       "0          tarruda                                  libmpack/libmpack   \n",
       "1         mairatma  deprecate/steel-avatar,deprecate/steel-cell-de...   \n",
       "2  joselitojunior1  acmh/maecoruja,Cisneiros/projeto-anfa,demianbo...   \n",
       "3  marcelcaraciolo   irgmedeiros/TCCRecommender,jg1141/Open-Allure-DS   \n",
       "4      luanfonceca  andrezap/analise_expressao_genica,andrezap/arv...   \n",
       "\n",
       "                                      mRepo_Language  \\\n",
       "0                                                  C   \n",
       "1  CSS,CSS,HTML,CSS,HTML,CSS,JavaScript,CSS,JavaS...   \n",
       "2          JavaScript,Java,Java,HTML,JavaScript,None   \n",
       "3                                      Python,Python   \n",
       "4  Java,Java,Java,Ruby,Ruby,JavaScript,JavaScript...   \n",
       "\n",
       "                                          Repo_Owner  \\\n",
       "0  tarruda/Algoritmos,tarruda/archdb,tarruda/back...   \n",
       "1  mairatma/alloy-ui,mairatma/alloyui.com,mairatm...   \n",
       "2  joselitojunior1/abigobaldo-nunes-adventures,jo...   \n",
       "3  marcelcaraciolo/apontador-api-libs,marcelcarac...   \n",
       "4  luanfonceca/168horas,luanfonceca/4stoq,luanfon...   \n",
       "\n",
       "                                      oRepo_Language  \n",
       "0  JavaScript,JavaScript,JavaScript,JavaScript,Py...  \n",
       "1  JavaScript,JavaScript,TypeScript,JavaScript,Ja...  \n",
       "2  JavaScript,HTML,CSS,None,None,None,None,GCC Ma...  \n",
       "3  PHP,Python,Python,None,Python,Python,Python,No...  \n",
       "4  CSS,Ruby,Python,JavaScript,Python,Python,None,...  "
      ]
     },
     "execution_count": 112,
     "metadata": {},
     "output_type": "execute_result"
    }
   ],
   "source": [
    "users_repositories = pd.read_csv('../data/users__repositories.csv', dtype=str)\n",
    "users_repositories.head()"
   ]
  },
  {
   "cell_type": "code",
   "execution_count": 113,
   "metadata": {},
   "outputs": [
    {
     "data": {
      "text/html": [
       "<div>\n",
       "<style scoped>\n",
       "    .dataframe tbody tr th:only-of-type {\n",
       "        vertical-align: middle;\n",
       "    }\n",
       "\n",
       "    .dataframe tbody tr th {\n",
       "        vertical-align: top;\n",
       "    }\n",
       "\n",
       "    .dataframe thead th {\n",
       "        text-align: right;\n",
       "    }\n",
       "</style>\n",
       "<table border=\"1\" class=\"dataframe\">\n",
       "  <thead>\n",
       "    <tr style=\"text-align: right;\">\n",
       "      <th></th>\n",
       "      <th>User</th>\n",
       "      <th>Repo_Member</th>\n",
       "      <th>mRepo_Language</th>\n",
       "      <th>Repo_Owner</th>\n",
       "      <th>oRepo_Language</th>\n",
       "    </tr>\n",
       "  </thead>\n",
       "  <tbody>\n",
       "    <tr>\n",
       "      <th>count</th>\n",
       "      <td>1992</td>\n",
       "      <td>785</td>\n",
       "      <td>785</td>\n",
       "      <td>1630</td>\n",
       "      <td>1630</td>\n",
       "    </tr>\n",
       "    <tr>\n",
       "      <th>unique</th>\n",
       "      <td>1981</td>\n",
       "      <td>764</td>\n",
       "      <td>413</td>\n",
       "      <td>1622</td>\n",
       "      <td>1207</td>\n",
       "    </tr>\n",
       "    <tr>\n",
       "      <th>top</th>\n",
       "      <td>diogo-lins</td>\n",
       "      <td>daidson/MonitoriaInformatica2017s2,jtdsjossany...</td>\n",
       "      <td>Java</td>\n",
       "      <td>palaciowagner/AlepeDigital,palaciowagner/react...</td>\n",
       "      <td>None</td>\n",
       "    </tr>\n",
       "    <tr>\n",
       "      <th>freq</th>\n",
       "      <td>2</td>\n",
       "      <td>3</td>\n",
       "      <td>78</td>\n",
       "      <td>2</td>\n",
       "      <td>132</td>\n",
       "    </tr>\n",
       "  </tbody>\n",
       "</table>\n",
       "</div>"
      ],
      "text/plain": [
       "              User                                        Repo_Member  \\\n",
       "count         1992                                                785   \n",
       "unique        1981                                                764   \n",
       "top     diogo-lins  daidson/MonitoriaInformatica2017s2,jtdsjossany...   \n",
       "freq             2                                                  3   \n",
       "\n",
       "       mRepo_Language                                         Repo_Owner  \\\n",
       "count             785                                               1630   \n",
       "unique            413                                               1622   \n",
       "top              Java  palaciowagner/AlepeDigital,palaciowagner/react...   \n",
       "freq               78                                                  2   \n",
       "\n",
       "       oRepo_Language  \n",
       "count            1630  \n",
       "unique           1207  \n",
       "top              None  \n",
       "freq              132  "
      ]
     },
     "execution_count": 113,
     "metadata": {},
     "output_type": "execute_result"
    }
   ],
   "source": [
    "users_repositories.describe()"
   ]
  },
  {
   "cell_type": "code",
   "execution_count": 114,
   "metadata": {},
   "outputs": [
    {
     "data": {
      "text/html": [
       "<div>\n",
       "<style scoped>\n",
       "    .dataframe tbody tr th:only-of-type {\n",
       "        vertical-align: middle;\n",
       "    }\n",
       "\n",
       "    .dataframe tbody tr th {\n",
       "        vertical-align: top;\n",
       "    }\n",
       "\n",
       "    .dataframe thead th {\n",
       "        text-align: right;\n",
       "    }\n",
       "</style>\n",
       "<table border=\"1\" class=\"dataframe\">\n",
       "  <thead>\n",
       "    <tr style=\"text-align: right;\">\n",
       "      <th></th>\n",
       "      <th>User</th>\n",
       "      <th>Repos</th>\n",
       "      <th>Languages</th>\n",
       "    </tr>\n",
       "  </thead>\n",
       "  <tbody>\n",
       "    <tr>\n",
       "      <th>0</th>\n",
       "      <td>tarruda</td>\n",
       "      <td>libmpack/libmpack,tarruda/Algoritmos,tarruda/a...</td>\n",
       "      <td>C,JavaScript,JavaScript,JavaScript,JavaScript,...</td>\n",
       "    </tr>\n",
       "    <tr>\n",
       "      <th>1</th>\n",
       "      <td>mairatma</td>\n",
       "      <td>deprecate/steel-avatar,deprecate/steel-cell-de...</td>\n",
       "      <td>CSS,CSS,HTML,CSS,HTML,CSS,JavaScript,CSS,JavaS...</td>\n",
       "    </tr>\n",
       "    <tr>\n",
       "      <th>2</th>\n",
       "      <td>joselitojunior1</td>\n",
       "      <td>acmh/maecoruja,Cisneiros/projeto-anfa,demianbo...</td>\n",
       "      <td>JavaScript,Java,Java,HTML,JavaScript,None,Java...</td>\n",
       "    </tr>\n",
       "    <tr>\n",
       "      <th>3</th>\n",
       "      <td>marcelcaraciolo</td>\n",
       "      <td>irgmedeiros/TCCRecommender,jg1141/Open-Allure-...</td>\n",
       "      <td>Python,Python,PHP,Python,Python,None,Python,Py...</td>\n",
       "    </tr>\n",
       "    <tr>\n",
       "      <th>4</th>\n",
       "      <td>luanfonceca</td>\n",
       "      <td>andrezap/analise_expressao_genica,andrezap/arv...</td>\n",
       "      <td>Java,Java,Java,Ruby,Ruby,JavaScript,JavaScript...</td>\n",
       "    </tr>\n",
       "  </tbody>\n",
       "</table>\n",
       "</div>"
      ],
      "text/plain": [
       "              User                                              Repos  \\\n",
       "0          tarruda  libmpack/libmpack,tarruda/Algoritmos,tarruda/a...   \n",
       "1         mairatma  deprecate/steel-avatar,deprecate/steel-cell-de...   \n",
       "2  joselitojunior1  acmh/maecoruja,Cisneiros/projeto-anfa,demianbo...   \n",
       "3  marcelcaraciolo  irgmedeiros/TCCRecommender,jg1141/Open-Allure-...   \n",
       "4      luanfonceca  andrezap/analise_expressao_genica,andrezap/arv...   \n",
       "\n",
       "                                           Languages  \n",
       "0  C,JavaScript,JavaScript,JavaScript,JavaScript,...  \n",
       "1  CSS,CSS,HTML,CSS,HTML,CSS,JavaScript,CSS,JavaS...  \n",
       "2  JavaScript,Java,Java,HTML,JavaScript,None,Java...  \n",
       "3  Python,Python,PHP,Python,Python,None,Python,Py...  \n",
       "4  Java,Java,Java,Ruby,Ruby,JavaScript,JavaScript...  "
      ]
     },
     "execution_count": 114,
     "metadata": {},
     "output_type": "execute_result"
    }
   ],
   "source": [
    "# Filtrando e Transformando o dataframe para dados de interesse\n",
    "\n",
    "repos_langs = pd.DataFrame({ \n",
    "    'User': users_repositories['User'],\n",
    "    'Repos': (users_repositories['Repo_Member']+','+users_repositories['Repo_Owner']).fillna(''),\n",
    "    'Languages': (users_repositories['mRepo_Language']+','+users_repositories['oRepo_Language']).fillna('')})\n",
    "repos_langs.head()"
   ]
  },
  {
   "cell_type": "markdown",
   "metadata": {},
   "source": [
    "## Construindo o dicionario: frequencia das palavras"
   ]
  },
  {
   "cell_type": "code",
   "execution_count": 129,
   "metadata": {},
   "outputs": [
    {
     "data": {
      "text/plain": [
       "0    [C, JavaScript, JavaScript, JavaScript, JavaSc...\n",
       "1    [CSS, CSS, HTML, CSS, HTML, CSS, JavaScript, C...\n",
       "2    [JavaScript, Java, Java, HTML, JavaScript, Non...\n",
       "3    [Python, Python, PHP, Python, Python, None, Py...\n",
       "4    [Java, Java, Java, Ruby, Ruby, JavaScript, Jav...\n",
       "Name: Languages, dtype: object"
      ]
     },
     "execution_count": 129,
     "metadata": {},
     "output_type": "execute_result"
    }
   ],
   "source": [
    "# Selecao de caracteristicas: vetor de linguagens\n",
    "languages = repos_langs['Languages'].apply(lambda x: str(x).split(','))\n",
    "languages.head()"
   ]
  },
  {
   "cell_type": "code",
   "execution_count": 131,
   "metadata": {},
   "outputs": [
    {
     "name": "stderr",
     "output_type": "stream",
     "text": [
      "2018-06-25 20:48:06,170 : INFO : adding document #0 to Dictionary(0 unique tokens: [])\n",
      "2018-06-25 20:48:06,186 : INFO : built Dictionary(102 unique tokens: ['C', 'C++', 'CMake', 'CoffeeScript', 'HTML']...) from 1992 documents (total 14858 corpus positions)\n"
     ]
    },
    {
     "name": "stdout",
     "output_type": "stream",
     "text": [
      "Number of unique words: 102\n",
      "Dictionary(102 unique tokens: ['C', 'C++', 'CMake', 'CoffeeScript', 'HTML']...)\n"
     ]
    }
   ],
   "source": [
    "#  building dictionary based on languages dataset\n",
    "dictionary = Dictionary(languages)\n",
    "print(\"Number of unique words: %d\" % len(dictionary))\n",
    "print(dictionary)"
   ]
  },
  {
   "cell_type": "markdown",
   "metadata": {},
   "source": [
    "## Train Model for predicions(similaridade): tf-idf"
   ]
  },
  {
   "cell_type": "code",
   "execution_count": 132,
   "metadata": {},
   "outputs": [],
   "source": [
    "#  Traing Model for predicions(similaridade): tf-idf\n",
    "tfidf = TfidfModel(dictionary=dictionary)\n",
    "\n",
    "# print(dictionary.token2id)"
   ]
  },
  {
   "cell_type": "code",
   "execution_count": 126,
   "metadata": {},
   "outputs": [
    {
     "data": {
      "text/plain": [
       "[(0, 1), (1, 1), (7, 5), (8, 1), (12, 1)]"
      ]
     },
     "execution_count": 126,
     "metadata": {},
     "output_type": "execute_result"
    }
   ],
   "source": [
    "# Novo Dado a ser rankeado\n",
    "new_doc = ['JavaScript','JavaScript','Python','JavaScript','JavaScript','C++','JavaScript','Lua','C'] # novo exemplo\n",
    "\n",
    "# Transformando novo exemplo to vetor (lang_idx, freq)\n",
    "new_vec = dictionary.doc2bow(new_doc) # frequency vector\n",
    "new_vec"
   ]
  },
  {
   "cell_type": "code",
   "execution_count": 127,
   "metadata": {},
   "outputs": [
    {
     "name": "stdout",
     "output_type": "stream",
     "text": [
      "[(0, 0.2544226420392753), (1, 0.2679520076775512), (7, 0.7610542410669464), (8, 0.4989679145224941), (12, 0.18787842672965765)]\n"
     ]
    }
   ],
   "source": [
    "# ranking dos termos presentes em new_vec utilizando o mode tfidf\n",
    "print(tfidf[new_vec]) # vector score"
   ]
  },
  {
   "cell_type": "markdown",
   "metadata": {},
   "source": [
    "## Construindo a Matriz de similaridades"
   ]
  },
  {
   "cell_type": "code",
   "execution_count": 138,
   "metadata": {},
   "outputs": [
    {
     "name": "stderr",
     "output_type": "stream",
     "text": [
      "2018-06-25 20:59:13,949 : INFO : creating sparse index\n",
      "2018-06-25 20:59:13,950 : INFO : creating sparse matrix from corpus\n",
      "2018-06-25 20:59:13,951 : INFO : PROGRESS: at document #0\n",
      "2018-06-25 20:59:14,009 : INFO : created <1992x102 sparse matrix of type '<class 'numpy.float32'>'\n",
      "\twith 5386 stored elements in Compressed Sparse Row format>\n"
     ]
    }
   ],
   "source": [
    "# Transforming dataset values\n",
    "# vetor de frequencia de palavras = languages freq.\n",
    "bow_corpus = [dictionary.doc2bow(text) for text in list(languages)] #frequency vector for all languages dataset\n",
    "\n",
    "# Tecnica: Calculo de similaridade com Cosin\n",
    "index = SparseMatrixSimilarity(tfidf[bow_corpus], num_features=102)"
   ]
  },
  {
   "cell_type": "markdown",
   "metadata": {},
   "source": [
    "# LISTA DE TOP 10 USUARIOS RECOMENDADOS para new_vec"
   ]
  },
  {
   "cell_type": "code",
   "execution_count": 135,
   "metadata": {},
   "outputs": [
    {
     "name": "stdout",
     "output_type": "stream",
     "text": [
      "[(638, 0.87646866), (1075, 0.8125202), (0, 0.8097467), (580, 0.7825455), (197, 0.78091174), (992, 0.76595163), (133, 0.7610542), (1423, 0.7610542), (1793, 0.7610542), (160, 0.75295174)]\n"
     ]
    }
   ],
   "source": [
    "similarities = index[tfidf[new_vec]]\n",
    "recomendations = list(enumerate(similarities))\n",
    "top_recs = sorted(recomendations, key=lambda rating: rating[1], reverse=True)\n",
    "print(top_recs[:10])"
   ]
  },
  {
   "cell_type": "markdown",
   "metadata": {},
   "source": [
    "#End."
   ]
  },
  {
   "cell_type": "markdown",
   "metadata": {},
   "source": [
    "## Extra: Algoritmo sofcosin"
   ]
  },
  {
   "cell_type": "code",
   "execution_count": 137,
   "metadata": {},
   "outputs": [
    {
     "name": "stderr",
     "output_type": "stream",
     "text": [
      "2018-06-25 20:55:26,310 : WARNING : consider setting layer size to a multiple of 4 for greater performance\n",
      "2018-06-25 20:55:26,311 : INFO : collecting all words and their counts\n",
      "2018-06-25 20:55:26,312 : INFO : PROGRESS: at sentence #0, processed 0 words, keeping 0 word types\n",
      "2018-06-25 20:55:26,314 : INFO : collected 102 word types from a corpus of 14858 raw words and 1992 sentences\n",
      "2018-06-25 20:55:26,315 : INFO : Loading a fresh vocabulary\n",
      "2018-06-25 20:55:26,316 : INFO : min_count=5 retains 55 unique words (53% of original 102, drops 47)\n",
      "2018-06-25 20:55:26,316 : INFO : min_count=5 leaves 14770 word corpus (99% of original 14858, drops 88)\n",
      "2018-06-25 20:55:26,317 : INFO : deleting the raw counts dictionary of 102 items\n",
      "2018-06-25 20:55:26,318 : INFO : sample=0.001 downsamples 27 most-common words\n",
      "2018-06-25 20:55:26,318 : INFO : downsampling leaves estimated 2747 word corpus (18.6% of prior 14770)\n",
      "2018-06-25 20:55:26,319 : INFO : estimated required memory for 55 words and 102 dimensions: 72380 bytes\n",
      "2018-06-25 20:55:26,319 : INFO : resetting layer weights\n",
      "2018-06-25 20:55:26,323 : INFO : training model with 8 workers on 55 vocabulary and 102 features, using sg=0 hs=0 sample=0.001 negative=5 window=5\n",
      "2018-06-25 20:55:26,329 : INFO : worker thread finished; awaiting finish of 7 more threads\n",
      "2018-06-25 20:55:26,329 : INFO : worker thread finished; awaiting finish of 6 more threads\n",
      "2018-06-25 20:55:26,331 : INFO : worker thread finished; awaiting finish of 5 more threads\n",
      "2018-06-25 20:55:26,331 : INFO : worker thread finished; awaiting finish of 4 more threads\n",
      "2018-06-25 20:55:26,333 : INFO : worker thread finished; awaiting finish of 3 more threads\n",
      "2018-06-25 20:55:26,333 : INFO : worker thread finished; awaiting finish of 2 more threads\n",
      "2018-06-25 20:55:26,334 : INFO : worker thread finished; awaiting finish of 1 more threads\n",
      "2018-06-25 20:55:26,334 : INFO : worker thread finished; awaiting finish of 0 more threads\n",
      "2018-06-25 20:55:26,335 : INFO : EPOCH - 1 : training on 14858 raw words (2730 effective words) took 0.0s, 440694 effective words/s\n",
      "2018-06-25 20:55:26,343 : INFO : worker thread finished; awaiting finish of 7 more threads\n",
      "2018-06-25 20:55:26,344 : INFO : worker thread finished; awaiting finish of 6 more threads\n",
      "2018-06-25 20:55:26,344 : INFO : worker thread finished; awaiting finish of 5 more threads\n",
      "2018-06-25 20:55:26,345 : INFO : worker thread finished; awaiting finish of 4 more threads\n",
      "2018-06-25 20:55:26,346 : INFO : worker thread finished; awaiting finish of 3 more threads\n",
      "2018-06-25 20:55:26,346 : INFO : worker thread finished; awaiting finish of 2 more threads\n",
      "2018-06-25 20:55:26,347 : INFO : worker thread finished; awaiting finish of 1 more threads\n",
      "2018-06-25 20:55:26,347 : INFO : worker thread finished; awaiting finish of 0 more threads\n",
      "2018-06-25 20:55:26,348 : INFO : EPOCH - 2 : training on 14858 raw words (2686 effective words) took 0.0s, 371177 effective words/s\n",
      "2018-06-25 20:55:26,355 : INFO : worker thread finished; awaiting finish of 7 more threads\n",
      "2018-06-25 20:55:26,356 : INFO : worker thread finished; awaiting finish of 6 more threads\n",
      "2018-06-25 20:55:26,357 : INFO : worker thread finished; awaiting finish of 5 more threads\n",
      "2018-06-25 20:55:26,358 : INFO : worker thread finished; awaiting finish of 4 more threads\n",
      "2018-06-25 20:55:26,358 : INFO : worker thread finished; awaiting finish of 3 more threads\n",
      "2018-06-25 20:55:26,359 : INFO : worker thread finished; awaiting finish of 2 more threads\n",
      "2018-06-25 20:55:26,359 : INFO : worker thread finished; awaiting finish of 1 more threads\n",
      "2018-06-25 20:55:26,360 : INFO : worker thread finished; awaiting finish of 0 more threads\n",
      "2018-06-25 20:55:26,360 : INFO : EPOCH - 3 : training on 14858 raw words (2801 effective words) took 0.0s, 494955 effective words/s\n",
      "2018-06-25 20:55:26,369 : INFO : worker thread finished; awaiting finish of 7 more threads\n",
      "2018-06-25 20:55:26,370 : INFO : worker thread finished; awaiting finish of 6 more threads\n",
      "2018-06-25 20:55:26,371 : INFO : worker thread finished; awaiting finish of 5 more threads\n",
      "2018-06-25 20:55:26,372 : INFO : worker thread finished; awaiting finish of 4 more threads\n",
      "2018-06-25 20:55:26,373 : INFO : worker thread finished; awaiting finish of 3 more threads\n",
      "2018-06-25 20:55:26,373 : INFO : worker thread finished; awaiting finish of 2 more threads\n",
      "2018-06-25 20:55:26,374 : INFO : worker thread finished; awaiting finish of 1 more threads\n",
      "2018-06-25 20:55:26,375 : INFO : worker thread finished; awaiting finish of 0 more threads\n",
      "2018-06-25 20:55:26,376 : INFO : EPOCH - 4 : training on 14858 raw words (2730 effective words) took 0.0s, 404372 effective words/s\n",
      "2018-06-25 20:55:26,382 : INFO : worker thread finished; awaiting finish of 7 more threads\n",
      "2018-06-25 20:55:26,383 : INFO : worker thread finished; awaiting finish of 6 more threads\n",
      "2018-06-25 20:55:26,384 : INFO : worker thread finished; awaiting finish of 5 more threads\n",
      "2018-06-25 20:55:26,385 : INFO : worker thread finished; awaiting finish of 4 more threads\n",
      "2018-06-25 20:55:26,385 : INFO : worker thread finished; awaiting finish of 3 more threads\n",
      "2018-06-25 20:55:26,386 : INFO : worker thread finished; awaiting finish of 2 more threads\n",
      "2018-06-25 20:55:26,386 : INFO : worker thread finished; awaiting finish of 1 more threads\n",
      "2018-06-25 20:55:26,387 : INFO : worker thread finished; awaiting finish of 0 more threads\n",
      "2018-06-25 20:55:26,387 : INFO : EPOCH - 5 : training on 14858 raw words (2700 effective words) took 0.0s, 507379 effective words/s\n",
      "2018-06-25 20:55:26,388 : INFO : training on a 74290 raw words (13647 effective words) took 0.1s, 211045 effective words/s\n",
      "2018-06-25 20:55:26,388 : WARNING : under 10 jobs per worker: consider setting a smaller `batch_words' for smoother alpha decay\n",
      "2018-06-25 20:55:26,389 : INFO : constructing a term similarity matrix\n",
      "2018-06-25 20:55:26,389 : INFO : PROGRESS: at 0.98% rows (1 / 102, 0 skipped, 0.980392% density)\n",
      "2018-06-25 20:55:26,390 : INFO : precomputing L2-norms of word weight vectors\n",
      "2018-06-25 20:55:26,457 : INFO : constructed a term similarity matrix with 29.488658 % nonzero elements\n"
     ]
    },
    {
     "name": "stdout",
     "output_type": "stream",
     "text": [
      "[(638, 0.9998445184084428), (457, 0.9996971005298076), (146, 0.999682511472302), (1075, 0.999469191710467), (197, 0.9992246801367962), (138, 0.9990920646120176), (160, 0.9987875606050014), (105, 0.998776252010608), (0, 0.9986905274987243), (665, 0.9986840058126695)]\n"
     ]
    }
   ],
   "source": [
    "# Algoritmo: Calculo de similaridade com SofCosin\n",
    "\n",
    "w2v_model = Word2Vec(languages, workers=cpu_count(), size=102, seed=12345)\n",
    "similarity_matrix = w2v_model.wv.similarity_matrix(dictionary, tfidf, nonzero_limit=100)\n",
    "\n",
    "index = SoftCosineSimilarity( tfidf[bow_corpus], similarity_matrix)\n",
    "\n",
    "similarities = index[tfidf[new_vec]]\n",
    "recs_soft = list(enumerate(similarities))\n",
    "# print(recs_soft)\n",
    "\n",
    "top_recs_soft = sorted(recs_soft, key=lambda rating: rating[1], reverse=True)\n",
    "print(top_recs_soft[:10])"
   ]
  },
  {
   "cell_type": "code",
   "execution_count": null,
   "metadata": {},
   "outputs": [],
   "source": []
  }
 ],
 "metadata": {
  "kernelspec": {
   "display_name": "Python 3",
   "language": "python",
   "name": "python3"
  },
  "language_info": {
   "codemirror_mode": {
    "name": "ipython",
    "version": 3
   },
   "file_extension": ".py",
   "mimetype": "text/x-python",
   "name": "python",
   "nbconvert_exporter": "python",
   "pygments_lexer": "ipython3",
   "version": "3.6.5"
  }
 },
 "nbformat": 4,
 "nbformat_minor": 2
}
