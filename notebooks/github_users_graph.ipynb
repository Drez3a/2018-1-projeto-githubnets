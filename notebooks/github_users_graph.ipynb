{
 "cells": [
  {
   "cell_type": "markdown",
   "metadata": {},
   "source": [
    "# Parte 1: Dados - Users_Followers"
   ]
  },
  {
   "cell_type": "code",
   "execution_count": 25,
   "metadata": {},
   "outputs": [],
   "source": [
    "import pandas as pd\n",
    "import numpy as np\n",
    "import re\n",
    "\n",
    "def fs_to_dataframe(fs):\n",
    "    return pd.DataFrame({'User': re.split('\\W+', str(fs))})\n"
   ]
  },
  {
   "cell_type": "code",
   "execution_count": 26,
   "metadata": {},
   "outputs": [
    {
     "data": {
      "text/html": [
       "<div>\n",
       "<style scoped>\n",
       "    .dataframe tbody tr th:only-of-type {\n",
       "        vertical-align: middle;\n",
       "    }\n",
       "\n",
       "    .dataframe tbody tr th {\n",
       "        vertical-align: top;\n",
       "    }\n",
       "\n",
       "    .dataframe thead th {\n",
       "        text-align: right;\n",
       "    }\n",
       "</style>\n",
       "<table border=\"1\" class=\"dataframe\">\n",
       "  <thead>\n",
       "    <tr style=\"text-align: right;\">\n",
       "      <th></th>\n",
       "      <th>User</th>\n",
       "      <th>All_Followers</th>\n",
       "      <th>nF</th>\n",
       "    </tr>\n",
       "  </thead>\n",
       "  <tbody>\n",
       "    <tr>\n",
       "      <th>0</th>\n",
       "      <td>tarruda</td>\n",
       "      <td>Sannis,danielmahon,csjaba,FergusRedican,Victor...</td>\n",
       "      <td>570</td>\n",
       "    </tr>\n",
       "    <tr>\n",
       "      <th>1</th>\n",
       "      <td>mairatma</td>\n",
       "      <td>brunocoelho,henvic,eduardolundgren,aperrelli,a...</td>\n",
       "      <td>363</td>\n",
       "    </tr>\n",
       "    <tr>\n",
       "      <th>2</th>\n",
       "      <td>joselitojunior1</td>\n",
       "      <td>renatooliveira,jeffesonmaia,jotaefe,duartefq,J...</td>\n",
       "      <td>350</td>\n",
       "    </tr>\n",
       "    <tr>\n",
       "      <th>3</th>\n",
       "      <td>marcelcaraciolo</td>\n",
       "      <td>thiagoarrais,brunojm,henriquebastos,macndesign...</td>\n",
       "      <td>330</td>\n",
       "    </tr>\n",
       "    <tr>\n",
       "      <th>4</th>\n",
       "      <td>luanfonceca</td>\n",
       "      <td>brunohenrique,luizvarela,gladson,lucasbibiano,...</td>\n",
       "      <td>301</td>\n",
       "    </tr>\n",
       "  </tbody>\n",
       "</table>\n",
       "</div>"
      ],
      "text/plain": [
       "              User                                      All_Followers   nF\n",
       "0          tarruda  Sannis,danielmahon,csjaba,FergusRedican,Victor...  570\n",
       "1         mairatma  brunocoelho,henvic,eduardolundgren,aperrelli,a...  363\n",
       "2  joselitojunior1  renatooliveira,jeffesonmaia,jotaefe,duartefq,J...  350\n",
       "3  marcelcaraciolo  thiagoarrais,brunojm,henriquebastos,macndesign...  330\n",
       "4      luanfonceca  brunohenrique,luizvarela,gladson,lucasbibiano,...  301"
      ]
     },
     "execution_count": 26,
     "metadata": {},
     "output_type": "execute_result"
    }
   ],
   "source": [
    "# load dataset\n",
    "\n",
    "gh_users_followers = pd.read_csv('../data/users__followers.csv')\n",
    "gh_users_followers.head()"
   ]
  },
  {
   "cell_type": "code",
   "execution_count": 27,
   "metadata": {},
   "outputs": [
    {
     "data": {
      "text/html": [
       "<div>\n",
       "<style scoped>\n",
       "    .dataframe tbody tr th:only-of-type {\n",
       "        vertical-align: middle;\n",
       "    }\n",
       "\n",
       "    .dataframe tbody tr th {\n",
       "        vertical-align: top;\n",
       "    }\n",
       "\n",
       "    .dataframe thead th {\n",
       "        text-align: right;\n",
       "    }\n",
       "</style>\n",
       "<table border=\"1\" class=\"dataframe\">\n",
       "  <thead>\n",
       "    <tr style=\"text-align: right;\">\n",
       "      <th></th>\n",
       "      <th>User</th>\n",
       "      <th>All_Followers</th>\n",
       "      <th>nF</th>\n",
       "    </tr>\n",
       "  </thead>\n",
       "  <tbody>\n",
       "    <tr>\n",
       "      <th>0</th>\n",
       "      <td>tarruda</td>\n",
       "      <td>User\n",
       "0                 \n",
       "1       ...</td>\n",
       "      <td>570</td>\n",
       "    </tr>\n",
       "    <tr>\n",
       "      <th>1</th>\n",
       "      <td>mairatma</td>\n",
       "      <td>User\n",
       "0                   \n",
       "1   ...</td>\n",
       "      <td>363</td>\n",
       "    </tr>\n",
       "    <tr>\n",
       "      <th>2</th>\n",
       "      <td>joselitojunior1</td>\n",
       "      <td>User\n",
       "0                    \n",
       "1 ...</td>\n",
       "      <td>350</td>\n",
       "    </tr>\n",
       "    <tr>\n",
       "      <th>3</th>\n",
       "      <td>marcelcaraciolo</td>\n",
       "      <td>User\n",
       "0                   \n",
       "1   ...</td>\n",
       "      <td>330</td>\n",
       "    </tr>\n",
       "    <tr>\n",
       "      <th>4</th>\n",
       "      <td>luanfonceca</td>\n",
       "      <td>User\n",
       "0                   \n",
       "1   ...</td>\n",
       "      <td>301</td>\n",
       "    </tr>\n",
       "  </tbody>\n",
       "</table>\n",
       "</div>"
      ],
      "text/plain": [
       "              User                                      All_Followers   nF\n",
       "0          tarruda                User\n",
       "0                 \n",
       "1       ...  570\n",
       "1         mairatma                  User\n",
       "0                   \n",
       "1   ...  363\n",
       "2  joselitojunior1                   User\n",
       "0                    \n",
       "1 ...  350\n",
       "3  marcelcaraciolo                  User\n",
       "0                   \n",
       "1   ...  330\n",
       "4      luanfonceca                  User\n",
       "0                   \n",
       "1   ...  301"
      ]
     },
     "execution_count": 27,
     "metadata": {},
     "output_type": "execute_result"
    }
   ],
   "source": [
    "# normalizing\n",
    "\n",
    "gh_users_allFollowers['All_Followers'] = gh_users_allFollowers['All_Followers'].fillna('')\n",
    "gh_users_allFollowers['All_Followers'] = gh_users_allFollowers['All_Followers'].apply(fs_to_dataframe) # apenas para simplificar operacoes \n",
    "\n",
    "gh_users_allFollowers.head()"
   ]
  },
  {
   "cell_type": "code",
   "execution_count": 28,
   "metadata": {},
   "outputs": [
    {
     "data": {
      "text/html": [
       "<div>\n",
       "<style scoped>\n",
       "    .dataframe tbody tr th:only-of-type {\n",
       "        vertical-align: middle;\n",
       "    }\n",
       "\n",
       "    .dataframe tbody tr th {\n",
       "        vertical-align: top;\n",
       "    }\n",
       "\n",
       "    .dataframe thead th {\n",
       "        text-align: right;\n",
       "    }\n",
       "</style>\n",
       "<table border=\"1\" class=\"dataframe\">\n",
       "  <thead>\n",
       "    <tr style=\"text-align: right;\">\n",
       "      <th></th>\n",
       "      <th>User</th>\n",
       "      <th>All_Followers</th>\n",
       "      <th>nF</th>\n",
       "      <th>Followers</th>\n",
       "      <th>nFs</th>\n",
       "    </tr>\n",
       "  </thead>\n",
       "  <tbody>\n",
       "    <tr>\n",
       "      <th>0</th>\n",
       "      <td>tarruda</td>\n",
       "      <td>User\n",
       "0                 \n",
       "1       ...</td>\n",
       "      <td>570</td>\n",
       "      <td>Empty DataFrame\n",
       "Columns: [User]\n",
       "Index: []</td>\n",
       "      <td>0</td>\n",
       "    </tr>\n",
       "    <tr>\n",
       "      <th>1</th>\n",
       "      <td>mairatma</td>\n",
       "      <td>User\n",
       "0                   \n",
       "1   ...</td>\n",
       "      <td>363</td>\n",
       "      <td>User\n",
       "0     henvic\n",
       "1  aperrelli</td>\n",
       "      <td>2</td>\n",
       "    </tr>\n",
       "    <tr>\n",
       "      <th>2</th>\n",
       "      <td>joselitojunior1</td>\n",
       "      <td>User\n",
       "0                    \n",
       "1 ...</td>\n",
       "      <td>350</td>\n",
       "      <td>User\n",
       "0  renatooliveira\n",
       "1     karl...</td>\n",
       "      <td>5</td>\n",
       "    </tr>\n",
       "    <tr>\n",
       "      <th>3</th>\n",
       "      <td>marcelcaraciolo</td>\n",
       "      <td>User\n",
       "0                   \n",
       "1   ...</td>\n",
       "      <td>330</td>\n",
       "      <td>User\n",
       "0        gileno\n",
       "1          fjs...</td>\n",
       "      <td>8</td>\n",
       "    </tr>\n",
       "    <tr>\n",
       "      <th>4</th>\n",
       "      <td>luanfonceca</td>\n",
       "      <td>User\n",
       "0                   \n",
       "1   ...</td>\n",
       "      <td>301</td>\n",
       "      <td>User\n",
       "0   filipeximenes\n",
       "1  renatoo...</td>\n",
       "      <td>2</td>\n",
       "    </tr>\n",
       "  </tbody>\n",
       "</table>\n",
       "</div>"
      ],
      "text/plain": [
       "              User                                      All_Followers   nF  \\\n",
       "0          tarruda                User\n",
       "0                 \n",
       "1       ...  570   \n",
       "1         mairatma                  User\n",
       "0                   \n",
       "1   ...  363   \n",
       "2  joselitojunior1                   User\n",
       "0                    \n",
       "1 ...  350   \n",
       "3  marcelcaraciolo                  User\n",
       "0                   \n",
       "1   ...  330   \n",
       "4      luanfonceca                  User\n",
       "0                   \n",
       "1   ...  301   \n",
       "\n",
       "                                           Followers  nFs  \n",
       "0          Empty DataFrame\n",
       "Columns: [User]\n",
       "Index: []    0  \n",
       "1                     User\n",
       "0     henvic\n",
       "1  aperrelli    2  \n",
       "2               User\n",
       "0  renatooliveira\n",
       "1     karl...    5  \n",
       "3             User\n",
       "0        gileno\n",
       "1          fjs...    8  \n",
       "4               User\n",
       "0   filipeximenes\n",
       "1  renatoo...    2  "
      ]
     },
     "execution_count": 28,
     "metadata": {},
     "output_type": "execute_result"
    }
   ],
   "source": [
    "# Dataframe incluindo colunas contendo apenas seguidores recifenses\n",
    "\n",
    "gh_users_Followers = gh_users_allFollowers.copy()\n",
    "\n",
    "gh_users_Followers['Followers'] = gh_users_Followers['All_Followers'].apply(pd.DataFrame({'User':gh_users_Followers['User']}).merge)\n",
    "\n",
    "gh_users_Followers['nFs'] = gh_users_Followers['Followers'].apply(len)\n",
    "\n",
    "gh_users_Followers.head()"
   ]
  },
  {
   "cell_type": "code",
   "execution_count": 29,
   "metadata": {},
   "outputs": [
    {
     "data": {
      "text/html": [
       "<div>\n",
       "<style scoped>\n",
       "    .dataframe tbody tr th:only-of-type {\n",
       "        vertical-align: middle;\n",
       "    }\n",
       "\n",
       "    .dataframe tbody tr th {\n",
       "        vertical-align: top;\n",
       "    }\n",
       "\n",
       "    .dataframe thead th {\n",
       "        text-align: right;\n",
       "    }\n",
       "</style>\n",
       "<table border=\"1\" class=\"dataframe\">\n",
       "  <thead>\n",
       "    <tr style=\"text-align: right;\">\n",
       "      <th></th>\n",
       "      <th>User</th>\n",
       "      <th>Followers</th>\n",
       "      <th>nFs</th>\n",
       "      <th>All_Followers</th>\n",
       "      <th>nF</th>\n",
       "    </tr>\n",
       "  </thead>\n",
       "  <tbody>\n",
       "    <tr>\n",
       "      <th>29</th>\n",
       "      <td>guiocavalcanti</td>\n",
       "      <td>User\n",
       "0    deividazevedo2\n",
       "1     ...</td>\n",
       "      <td>24</td>\n",
       "      <td>User\n",
       "0                   \n",
       "1   ...</td>\n",
       "      <td>58</td>\n",
       "    </tr>\n",
       "    <tr>\n",
       "      <th>26</th>\n",
       "      <td>lailsonbm</td>\n",
       "      <td>User\n",
       "0       luanfonceca\n",
       "1     ...</td>\n",
       "      <td>23</td>\n",
       "      <td>User\n",
       "0                   \n",
       "1   ...</td>\n",
       "      <td>73</td>\n",
       "    </tr>\n",
       "    <tr>\n",
       "      <th>8</th>\n",
       "      <td>filipeximenes</td>\n",
       "      <td>User\n",
       "0          luanfonceca\n",
       "...</td>\n",
       "      <td>23</td>\n",
       "      <td>User\n",
       "0                     ...</td>\n",
       "      <td>177</td>\n",
       "    </tr>\n",
       "    <tr>\n",
       "      <th>23</th>\n",
       "      <td>guilhermefarias</td>\n",
       "      <td>User\n",
       "0       filipeximenes\n",
       "1 ...</td>\n",
       "      <td>19</td>\n",
       "      <td>User\n",
       "0                  \n",
       "1     ...</td>\n",
       "      <td>80</td>\n",
       "    </tr>\n",
       "    <tr>\n",
       "      <th>12</th>\n",
       "      <td>fernandocastor</td>\n",
       "      <td>User\n",
       "0   joselitojunior1\n",
       "1     ...</td>\n",
       "      <td>19</td>\n",
       "      <td>User\n",
       "0                    \n",
       "1 ...</td>\n",
       "      <td>129</td>\n",
       "    </tr>\n",
       "  </tbody>\n",
       "</table>\n",
       "</div>"
      ],
      "text/plain": [
       "               User                                          Followers  nFs  \\\n",
       "29   guiocavalcanti                 User\n",
       "0    deividazevedo2\n",
       "1     ...   24   \n",
       "26        lailsonbm                 User\n",
       "0       luanfonceca\n",
       "1     ...   23   \n",
       "8     filipeximenes                    User\n",
       "0          luanfonceca\n",
       "...   23   \n",
       "23  guilhermefarias                   User\n",
       "0       filipeximenes\n",
       "1 ...   19   \n",
       "12   fernandocastor                 User\n",
       "0   joselitojunior1\n",
       "1     ...   19   \n",
       "\n",
       "                                        All_Followers   nF  \n",
       "29                  User\n",
       "0                   \n",
       "1   ...   58  \n",
       "26                  User\n",
       "0                   \n",
       "1   ...   73  \n",
       "8                      User\n",
       "0                     ...  177  \n",
       "23                 User\n",
       "0                  \n",
       "1     ...   80  \n",
       "12                   User\n",
       "0                    \n",
       "1 ...  129  "
      ]
     },
     "execution_count": 29,
     "metadata": {},
     "output_type": "execute_result"
    }
   ],
   "source": [
    "# foco na visualização dos Followers recifenses \n",
    "# (mantendo no DataFrame todos os seguidores(recifenses e não recifenses))\n",
    "\n",
    "gh_users_Followers = gh_users_Followers.loc[:, ['User', 'Followers', 'nFs', 'All_Followers', 'nF']]\n",
    "gh_users_Followers.sort_values('nFs', axis=0, ascending=False, inplace=True)\n",
    "\n",
    "gh_users_Followers.head()"
   ]
  },
  {
   "cell_type": "code",
   "execution_count": 30,
   "metadata": {},
   "outputs": [
    {
     "data": {
      "text/html": [
       "<div>\n",
       "<style scoped>\n",
       "    .dataframe tbody tr th:only-of-type {\n",
       "        vertical-align: middle;\n",
       "    }\n",
       "\n",
       "    .dataframe tbody tr th {\n",
       "        vertical-align: top;\n",
       "    }\n",
       "\n",
       "    .dataframe thead th {\n",
       "        text-align: right;\n",
       "    }\n",
       "</style>\n",
       "<table border=\"1\" class=\"dataframe\">\n",
       "  <thead>\n",
       "    <tr style=\"text-align: right;\">\n",
       "      <th></th>\n",
       "      <th>User</th>\n",
       "      <th>Followers</th>\n",
       "      <th>nFs</th>\n",
       "      <th>All_Followers</th>\n",
       "      <th>nF</th>\n",
       "    </tr>\n",
       "  </thead>\n",
       "  <tbody>\n",
       "    <tr>\n",
       "      <th>29</th>\n",
       "      <td>guiocavalcanti</td>\n",
       "      <td>deividazevedo2,filipeximenes,renatooliveira,he...</td>\n",
       "      <td>24</td>\n",
       "      <td>,User,0,charlenopires,1,brunnogomes,2,adrianom...</td>\n",
       "      <td>58</td>\n",
       "    </tr>\n",
       "    <tr>\n",
       "      <th>26</th>\n",
       "      <td>lailsonbm</td>\n",
       "      <td>luanfonceca,gileno,renatooliveira,fjsj,guiocav...</td>\n",
       "      <td>23</td>\n",
       "      <td>,User,0,kraudio,1,lucasmncastro,2,chillicoder,...</td>\n",
       "      <td>73</td>\n",
       "    </tr>\n",
       "    <tr>\n",
       "      <th>8</th>\n",
       "      <td>filipeximenes</td>\n",
       "      <td>luanfonceca,gileno,renatooliveira,luiztiago,fj...</td>\n",
       "      <td>23</td>\n",
       "      <td>,User,0,luisgabriel,1,renatooliveira,2,marciob...</td>\n",
       "      <td>177</td>\n",
       "    </tr>\n",
       "    <tr>\n",
       "      <th>23</th>\n",
       "      <td>guilhermefarias</td>\n",
       "      <td>filipeximenes,luiztiago,henvic,talitaoliveira,...</td>\n",
       "      <td>19</td>\n",
       "      <td>,User,0,ivanAndrade,1,dodiegofly,2,iurimattos,...</td>\n",
       "      <td>80</td>\n",
       "    </tr>\n",
       "    <tr>\n",
       "      <th>12</th>\n",
       "      <td>fernandocastor</td>\n",
       "      <td>joselitojunior1,filipeximenes,renatooliveira,f...</td>\n",
       "      <td>19</td>\n",
       "      <td>,User,0,guiocavalcanti,1,adrianomelo,2,tacsio,...</td>\n",
       "      <td>129</td>\n",
       "    </tr>\n",
       "  </tbody>\n",
       "</table>\n",
       "</div>"
      ],
      "text/plain": [
       "               User                                          Followers  nFs  \\\n",
       "29   guiocavalcanti  deividazevedo2,filipeximenes,renatooliveira,he...   24   \n",
       "26        lailsonbm  luanfonceca,gileno,renatooliveira,fjsj,guiocav...   23   \n",
       "8     filipeximenes  luanfonceca,gileno,renatooliveira,luiztiago,fj...   23   \n",
       "23  guilhermefarias  filipeximenes,luiztiago,henvic,talitaoliveira,...   19   \n",
       "12   fernandocastor  joselitojunior1,filipeximenes,renatooliveira,f...   19   \n",
       "\n",
       "                                        All_Followers   nF  \n",
       "29  ,User,0,charlenopires,1,brunnogomes,2,adrianom...   58  \n",
       "26  ,User,0,kraudio,1,lucasmncastro,2,chillicoder,...   73  \n",
       "8   ,User,0,luisgabriel,1,renatooliveira,2,marciob...  177  \n",
       "23  ,User,0,ivanAndrade,1,dodiegofly,2,iurimattos,...   80  \n",
       "12  ,User,0,guiocavalcanti,1,adrianomelo,2,tacsio,...  129  "
      ]
     },
     "execution_count": 30,
     "metadata": {},
     "output_type": "execute_result"
    }
   ],
   "source": [
    "gh_users_Followers['Followers'] = gh_users_Followers['Followers'].apply(lambda x: x.apply(','.join))\n",
    "gh_users_Followers['All_Followers'] = gh_users_Followers['All_Followers'].apply(lambda x: x.apply(','.join))\n",
    "\n",
    "gh_users_Followers.head()"
   ]
  },
  {
   "cell_type": "code",
   "execution_count": 31,
   "metadata": {},
   "outputs": [
    {
     "data": {
      "text/html": [
       "<div>\n",
       "<style scoped>\n",
       "    .dataframe tbody tr th:only-of-type {\n",
       "        vertical-align: middle;\n",
       "    }\n",
       "\n",
       "    .dataframe tbody tr th {\n",
       "        vertical-align: top;\n",
       "    }\n",
       "\n",
       "    .dataframe thead th {\n",
       "        text-align: right;\n",
       "    }\n",
       "</style>\n",
       "<table border=\"1\" class=\"dataframe\">\n",
       "  <thead>\n",
       "    <tr style=\"text-align: right;\">\n",
       "      <th></th>\n",
       "      <th>Id</th>\n",
       "      <th>In-Degree</th>\n",
       "      <th>All-In-Degree</th>\n",
       "    </tr>\n",
       "  </thead>\n",
       "  <tbody>\n",
       "    <tr>\n",
       "      <th>29</th>\n",
       "      <td>guiocavalcanti</td>\n",
       "      <td>24</td>\n",
       "      <td>58</td>\n",
       "    </tr>\n",
       "    <tr>\n",
       "      <th>26</th>\n",
       "      <td>lailsonbm</td>\n",
       "      <td>23</td>\n",
       "      <td>73</td>\n",
       "    </tr>\n",
       "    <tr>\n",
       "      <th>8</th>\n",
       "      <td>filipeximenes</td>\n",
       "      <td>23</td>\n",
       "      <td>177</td>\n",
       "    </tr>\n",
       "    <tr>\n",
       "      <th>23</th>\n",
       "      <td>guilhermefarias</td>\n",
       "      <td>19</td>\n",
       "      <td>80</td>\n",
       "    </tr>\n",
       "    <tr>\n",
       "      <th>12</th>\n",
       "      <td>fernandocastor</td>\n",
       "      <td>19</td>\n",
       "      <td>129</td>\n",
       "    </tr>\n",
       "  </tbody>\n",
       "</table>\n",
       "</div>"
      ],
      "text/plain": [
       "                 Id  In-Degree  All-In-Degree\n",
       "29   guiocavalcanti         24             58\n",
       "26        lailsonbm         23             73\n",
       "8     filipeximenes         23            177\n",
       "23  guilhermefarias         19             80\n",
       "12   fernandocastor         19            129"
      ]
     },
     "execution_count": 31,
     "metadata": {},
     "output_type": "execute_result"
    }
   ],
   "source": [
    "# todos os usuarios recifenses (nem todos serao considerados como nos do graph - ver Parte 2) \n",
    "nodes_preview = gh_users_Followers.loc[:,['User','nFs', 'nF']]\n",
    "nodes_preview.columns = ['Id', 'In-Degree', 'All-In-Degree']\n",
    "\n",
    "nodes_preview.head()"
   ]
  },
  {
   "cell_type": "code",
   "execution_count": 7,
   "metadata": {},
   "outputs": [
    {
     "data": {
      "text/html": [
       "<div>\n",
       "<style scoped>\n",
       "    .dataframe tbody tr th:only-of-type {\n",
       "        vertical-align: middle;\n",
       "    }\n",
       "\n",
       "    .dataframe tbody tr th {\n",
       "        vertical-align: top;\n",
       "    }\n",
       "\n",
       "    .dataframe thead th {\n",
       "        text-align: right;\n",
       "    }\n",
       "</style>\n",
       "<table border=\"1\" class=\"dataframe\">\n",
       "  <thead>\n",
       "    <tr style=\"text-align: right;\">\n",
       "      <th></th>\n",
       "      <th>Source</th>\n",
       "      <th>Target</th>\n",
       "    </tr>\n",
       "  </thead>\n",
       "  <tbody>\n",
       "    <tr>\n",
       "      <th>0</th>\n",
       "      <td>henriquemenezes</td>\n",
       "      <td>tarruda</td>\n",
       "    </tr>\n",
       "    <tr>\n",
       "      <th>1</th>\n",
       "      <td>paulolieuthier</td>\n",
       "      <td>tarruda</td>\n",
       "    </tr>\n",
       "    <tr>\n",
       "      <th>2</th>\n",
       "      <td>meiralins</td>\n",
       "      <td>tarruda</td>\n",
       "    </tr>\n",
       "    <tr>\n",
       "      <th>3</th>\n",
       "      <td>dapine</td>\n",
       "      <td>tarruda</td>\n",
       "    </tr>\n",
       "    <tr>\n",
       "      <th>4</th>\n",
       "      <td>spider8</td>\n",
       "      <td>tarruda</td>\n",
       "    </tr>\n",
       "  </tbody>\n",
       "</table>\n",
       "</div>"
      ],
      "text/plain": [
       "            Source   Target\n",
       "0  henriquemenezes  tarruda\n",
       "1   paulolieuthier  tarruda\n",
       "2        meiralins  tarruda\n",
       "3           dapine  tarruda\n",
       "4          spider8  tarruda"
      ]
     },
     "execution_count": 7,
     "metadata": {},
     "output_type": "execute_result"
    }
   ],
   "source": [
    "# criacao das arestas\n",
    "\n",
    "def create_edges_df(batches):\n",
    "    return pd.concat(batches,\n",
    "        ignore_index=True)\n",
    "\n",
    "pairs = zip(gh_users_Followers.User, gh_users_Followers.Followers)\n",
    "\n",
    "edges = [pd.DataFrame([{'Source':str(f), 'Target':str(u)} for f in fs['User']]) for (u,fs) in pairs]\n",
    "\n",
    "edges_df = create_edges_df(edges)\n",
    "edges_df.head()"
   ]
  },
  {
   "cell_type": "code",
   "execution_count": 10,
   "metadata": {},
   "outputs": [],
   "source": [
    "# gh_users_Followers.to_csv('gh_users_Followers.csv', index=False)\n",
    "# edges_df.to_csv('edges.csv', index=False)"
   ]
  },
  {
   "cell_type": "markdown",
   "metadata": {},
   "source": [
    "\n",
    "# Parte 2: Análise dos Dados - Users_Followers"
   ]
  },
  {
   "cell_type": "code",
   "execution_count": 11,
   "metadata": {},
   "outputs": [
    {
     "data": {
      "text/plain": [
       "1992"
      ]
     },
     "execution_count": 11,
     "metadata": {},
     "output_type": "execute_result"
    }
   ],
   "source": [
    "# numero de usuarios recifenses \n",
    "gh_users_Followers['User'].count()"
   ]
  },
  {
   "cell_type": "code",
   "execution_count": 69,
   "metadata": {},
   "outputs": [
    {
     "data": {
      "text/plain": [
       "692"
      ]
     },
     "execution_count": 69,
     "metadata": {},
     "output_type": "execute_result"
    }
   ],
   "source": [
    "# numero de usuarios recifenses com seguidores recifenses \n",
    "users_0_fs = [str(n) for n in gh_users_Followers.User[gh_users_Followers['nFs'] != 0]]\n",
    "len(users_0_fs)"
   ]
  },
  {
   "cell_type": "code",
   "execution_count": 13,
   "metadata": {},
   "outputs": [
    {
     "data": {
      "text/plain": [
       "1300"
      ]
     },
     "execution_count": 13,
     "metadata": {},
     "output_type": "execute_result"
    }
   ],
   "source": [
    "# numero de usuarios recifenses sem seguidores recifenses\n",
    "users_0_fs = [str(n) for n in gh_users_Followers.User[gh_users_Followers['nFs'] == 0]]\n",
    "len(users_0_fs)"
   ]
  },
  {
   "cell_type": "code",
   "execution_count": 70,
   "metadata": {},
   "outputs": [
    {
     "data": {
      "text/plain": [
       "1103"
      ]
     },
     "execution_count": 70,
     "metadata": {},
     "output_type": "execute_result"
    }
   ],
   "source": [
    "# numero de usuarios recifenses com seguidores (recifenses ou nao)\n",
    "users_0_fs = [str(n) for n in gh_users_Followers.User[gh_users_Followers['nF'] != 0]]\n",
    "len(users_0_fs)"
   ]
  },
  {
   "cell_type": "code",
   "execution_count": 71,
   "metadata": {},
   "outputs": [
    {
     "data": {
      "text/plain": [
       "889"
      ]
     },
     "execution_count": 71,
     "metadata": {},
     "output_type": "execute_result"
    }
   ],
   "source": [
    "# numero de usuarios recifenses sem seguidores (recifenses ou nao)\n",
    "users_0_fs = [str(n) for n in gh_users_Followers.User[gh_users_Followers['nF'] == 0]]\n",
    "len(users_0_fs)"
   ]
  },
  {
   "cell_type": "markdown",
   "metadata": {},
   "source": [
    "**- Obs.: número de nós considerados**\n",
    "\n",
    "Note que como estes nós pertencem a uma aresta, eles representam os usuários que tem seguidores e/ou seguem alguém."
   ]
  },
  {
   "cell_type": "code",
   "execution_count": 14,
   "metadata": {},
   "outputs": [
    {
     "data": {
      "text/plain": [
       "828"
      ]
     },
     "execution_count": 14,
     "metadata": {},
     "output_type": "execute_result"
    }
   ],
   "source": [
    "# (usuarios recifenses, excluidos os que não tem seguidores se e somente se não seguem ninguem)\n",
    "len(pd.unique(edges_df[['Source','Target']].values.ravel()))"
   ]
  },
  {
   "cell_type": "code",
   "execution_count": 15,
   "metadata": {},
   "outputs": [
    {
     "data": {
      "text/plain": [
       "2320"
      ]
     },
     "execution_count": 15,
     "metadata": {},
     "output_type": "execute_result"
    }
   ],
   "source": [
    "# numero de arestas (somatorio do total de seguidores por usuario)\n",
    "gh_users_Followers.nFs.sum()"
   ]
  },
  {
   "cell_type": "code",
   "execution_count": 16,
   "metadata": {},
   "outputs": [
    {
     "data": {
      "text/plain": [
       "Source    2320\n",
       "Target    2320\n",
       "dtype: int64"
      ]
     },
     "execution_count": 16,
     "metadata": {},
     "output_type": "execute_result"
    }
   ],
   "source": [
    "# revendo o numero de arestas\n",
    "edges = pd.read_csv('edges.csv')\n",
    "edges.count()"
   ]
  },
  {
   "cell_type": "code",
   "execution_count": 17,
   "metadata": {},
   "outputs": [
    {
     "data": {
      "text/plain": [
       "0     1300\n",
       "1      310\n",
       "2      142\n",
       "3       67\n",
       "4       42\n",
       "5       27\n",
       "7       19\n",
       "6       18\n",
       "8       14\n",
       "9       14\n",
       "11       6\n",
       "14       5\n",
       "12       3\n",
       "23       3\n",
       "20       2\n",
       "13       2\n",
       "18       2\n",
       "10       2\n",
       "15       2\n",
       "24       2\n",
       "25       2\n",
       "29       1\n",
       "37       1\n",
       "35       1\n",
       "16       1\n",
       "28       1\n",
       "19       1\n",
       "40       1\n",
       "48       1\n",
       "Name: nFs, dtype: int64"
      ]
     },
     "execution_count": 17,
     "metadata": {},
     "output_type": "execute_result"
    }
   ],
   "source": [
    "# distribuicao do Grau\n",
    "gh_users_Followers.nFs.value_counts()"
   ]
  },
  {
   "cell_type": "code",
   "execution_count": null,
   "metadata": {},
   "outputs": [],
   "source": [
    "# distribuicao do grau - usuarios por ocorrencias da quantidade de seguidores \n",
    "groupby_nfs = gh_users_Followers.groupby('nFs')\n",
    "groupby_nfs['User'].apply( ','.join).sort()"
   ]
  },
  {
   "cell_type": "code",
   "execution_count": null,
   "metadata": {},
   "outputs": [],
   "source": []
  }
 ],
 "metadata": {
  "kernelspec": {
   "display_name": "Python 3",
   "language": "python",
   "name": "python3"
  },
  "language_info": {
   "codemirror_mode": {
    "name": "ipython",
    "version": 3
   },
   "file_extension": ".py",
   "mimetype": "text/x-python",
   "name": "python",
   "nbconvert_exporter": "python",
   "pygments_lexer": "ipython3",
   "version": "3.6.5"
  }
 },
 "nbformat": 4,
 "nbformat_minor": 2
}
